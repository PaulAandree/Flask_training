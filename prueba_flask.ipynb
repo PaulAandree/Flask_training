{
 "cells": [
  {
   "cell_type": "code",
   "execution_count": null,
   "metadata": {},
   "outputs": [],
   "source": [
    "import streamlit as st\n",
    "import pandas as pd\n",
    "\n",
    "# Sample data\n",
    "data = [\n",
    "    ['John Doe', 'Department A', 'Province X', 'District 1', 10000, 5000, 4000, 1000, 'Urban'],\n",
    "    ['Jane Smith', 'Department B', 'Province Y', 'District 2', 15000, 7000, 6000, 1000, 'Rural'],\n",
    "    ['Mark Johnson', 'Department C', 'Province Z', 'District 3', 12000, 5500, 5000, 500, 'Urban'],\n",
    "    ['Sarah Thompson', 'Department A', 'Province X', 'District 1', 8000, 4000, 3500, 500, 'Rural'],\n",
    "    ['Michael Brown', 'Department B', 'Province Y', 'District 2', 9000, 4500, 4000, 500, 'Urban'],\n",
    "    ['Emily Davis', 'Department C', 'Province Z', 'District 3', 11000, 5000, 4500, 500, 'Rural']\n",
    "]\n",
    "\n",
    "# Create a Pandas DataFrame\n",
    "df = pd.DataFrame(data, columns=['Nombre', 'Departamento', 'Provincia', 'Distrito', 'Poblacion', 'Vivienda',\n",
    "                                 'Viviendas con luz', 'Viviendas sin luz', 'Area'])\n",
    "\n",
    "# Streamlit app\n",
    "st.title('Reporte de Datos')\n",
    "\n",
    "# Button for grouping by district\n",
    "if st.button('Agrupar por Distrito'):\n",
    "    grouped_by_district = df.groupby('Distrito').sum().reset_index()\n",
    "    st.table(grouped_by_district)\n",
    "\n",
    "# Button for grouping by name\n",
    "if st.button('Agrupar por Nombre'):\n",
    "    grouped_by_name = df.groupby('Nombre').sum().reset_index()\n",
    "    st.table(grouped_by_name)\n",
    "\n",
    "# Select rural or urban area\n",
    "area_filter = st.radio('Seleccionar Área', ['Rural', 'Urbano'])\n",
    "filtered_data = df[df['Area'] == area_filter]\n",
    "st.table(filtered_data)\n"
   ]
  },
  {
   "cell_type": "code",
   "execution_count": 26,
   "metadata": {},
   "outputs": [],
   "source": [
    "df = pd.read_excel('E:\\_02_practicas_region_apurimac\\Tareas_sub gerente(David )\\Tarea_03 - indicadores\\Apurimac.xlsx')\n",
    "df.to_csv('E:\\_02_practicas_region_apurimac\\Tareas_sub gerente(David )\\Tarea_03 - indicadores\\Apurimac.csv', sep=',', encoding='utf-8', index=False)"
   ]
  },
  {
   "cell_type": "code",
   "execution_count": 27,
   "metadata": {},
   "outputs": [
    {
     "data": {
      "text/plain": [
       "84"
      ]
     },
     "execution_count": 27,
     "metadata": {},
     "output_type": "execute_result"
    }
   ],
   "source": [
    "len(df[\"DISTRITO\"].unique())"
   ]
  },
  {
   "cell_type": "code",
   "execution_count": 25,
   "metadata": {},
   "outputs": [
    {
     "data": {
      "text/plain": [
       "array(['RURAL', 'URBANO'], dtype=object)"
      ]
     },
     "execution_count": 25,
     "metadata": {},
     "output_type": "execute_result"
    }
   ],
   "source": [
    "df[\"AREA\"].unique()"
   ]
  },
  {
   "cell_type": "code",
   "execution_count": null,
   "metadata": {},
   "outputs": [],
   "source": [
    "df[\"AREA\"] = df[\"AREA\"].astype(str).str.strip()"
   ]
  },
  {
   "cell_type": "code",
   "execution_count": null,
   "metadata": {},
   "outputs": [],
   "source": [
    "df[\"AREA\"] = df[\"AREA\"].str.upper()"
   ]
  },
  {
   "cell_type": "code",
   "execution_count": null,
   "metadata": {},
   "outputs": [],
   "source": [
    "df=df.dropna()"
   ]
  },
  {
   "cell_type": "code",
   "execution_count": null,
   "metadata": {},
   "outputs": [],
   "source": [
    "df = df.loc[(df != 0).all(axis=1)]\n"
   ]
  },
  {
   "cell_type": "code",
   "execution_count": null,
   "metadata": {},
   "outputs": [],
   "source": [
    "import streamlit as st\n",
    "st.title(\"Reporte de Datos\")\n",
    "\n",
    "# Button for grouping by district\n",
    "if st.button(\"Agrupar por Distrito\"):\n",
    "    grouped_by_district = df.groupby(\"DISTRITO\").sum().reset_index()\n",
    "    st.table(grouped_by_district)\n",
    "    st.area_chart(grouped_by_district[[\"VIVIENDAS SIN LUZ\", \"VIVIENDAS CON LUZ\"]])\n",
    "\n",
    "# Button for grouping by name\n",
    "if st.button(\"Agrupar por Nombre\"):\n",
    "    grouped_by_name = df.groupby(\"NOMBRE\").sum().reset_index()\n",
    "    st.table(grouped_by_name)\n",
    "    st.area_chart(grouped_by_name[[\"VIVIENDAS SIN LUZ\", \"VIVIENDAS CON LUZ\"]])\n",
    "\n",
    "# Select rural or urban area\n",
    "area_filter = st.radio(\"Seleccionar Área\", [\"RURAL\", \"URBANO\"])\n",
    "filtered_data = df[df[\"AREA\"] == area_filter]\n",
    "st.table(filtered_data)\n",
    "st.area_chart(filtered_data[[\"VIVIENDAS SIN LUZ\", \"VIVIENDAS CON LUZ\"]])\n"
   ]
  },
  {
   "cell_type": "code",
   "execution_count": 29,
   "metadata": {},
   "outputs": [
    {
     "ename": "ModuleNotFoundError",
     "evalue": "No module named 'vega'",
     "output_type": "error",
     "traceback": [
      "\u001b[1;31m---------------------------------------------------------------------------\u001b[0m",
      "\u001b[1;31mModuleNotFoundError\u001b[0m                       Traceback (most recent call last)",
      "\u001b[1;32m<ipython-input-29-7b4ff68ee60e>\u001b[0m in \u001b[0;36m<module>\u001b[1;34m\u001b[0m\n\u001b[1;32m----> 1\u001b[1;33m \u001b[1;32mimport\u001b[0m \u001b[0mvega\u001b[0m \u001b[1;32mas\u001b[0m \u001b[0mvg\u001b[0m\u001b[1;33m\u001b[0m\u001b[1;33m\u001b[0m\u001b[0m\n\u001b[0m",
      "\u001b[1;31mModuleNotFoundError\u001b[0m: No module named 'vega'"
     ]
    }
   ],
   "source": [
    "import vega as vg"
   ]
  },
  {
   "cell_type": "code",
   "execution_count": null,
   "metadata": {},
   "outputs": [],
   "source": [
    "import pandas as pd"
   ]
  }
 ],
 "metadata": {
  "kernelspec": {
   "display_name": "base",
   "language": "python",
   "name": "python3"
  },
  "language_info": {
   "codemirror_mode": {
    "name": "ipython",
    "version": 3
   },
   "file_extension": ".py",
   "mimetype": "text/x-python",
   "name": "python",
   "nbconvert_exporter": "python",
   "pygments_lexer": "ipython3",
   "version": "3.8.5"
  },
  "orig_nbformat": 4
 },
 "nbformat": 4,
 "nbformat_minor": 2
}
